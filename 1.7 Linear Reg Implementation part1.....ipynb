{
 "cells": [
  {
   "cell_type": "markdown",
   "id": "4e063468",
   "metadata": {},
   "source": [
    "# Importing lib"
   ]
  },
  {
   "cell_type": "code",
   "execution_count": null,
   "id": "0e52cf47",
   "metadata": {},
   "outputs": [],
   "source": [
    "import pandas as pd\n",
    "import numpy as np\n",
    "import seaborn as sns"
   ]
  },
  {
   "cell_type": "code",
   "execution_count": null,
   "id": "feea286f",
   "metadata": {},
   "outputs": [],
   "source": []
  },
  {
   "cell_type": "markdown",
   "id": "f44014b3",
   "metadata": {},
   "source": [
    "# loading dataset"
   ]
  },
  {
   "cell_type": "code",
   "execution_count": 4,
   "id": "265b8b92",
   "metadata": {},
   "outputs": [],
   "source": [
    "ColumnNames=['Hours','Calories', 'Weight']\n",
    "DataValues=[[ 1.0, 2500, 95],\n",
    " [ 2.0, 2000, 85],\n",
    " [ 2.5, 1900, 83],\n",
    " [ 3.0, 1850, 81],\n",
    " [ 3.5, 1600, 80],\n",
    " [ 4.0, 1500, 78],\n",
    " [ 5.0, 1500, 77],\n",
    " [ 5.5, 1600, 80],\n",
    " [ 6.0, 1700, 75],\n",
    " [ 6.5, 1500,70]]"
   ]
  },
  {
   "cell_type": "code",
   "execution_count": 5,
   "id": "9a88d55c",
   "metadata": {},
   "outputs": [
    {
     "data": {
      "text/plain": [
       "['Hours', 'Calories', 'Weight']"
      ]
     },
     "execution_count": 5,
     "metadata": {},
     "output_type": "execute_result"
    }
   ],
   "source": [
    "ColumnNames"
   ]
  },
  {
   "cell_type": "code",
   "execution_count": 6,
   "id": "16c9c495",
   "metadata": {},
   "outputs": [
    {
     "data": {
      "text/plain": [
       "[[1.0, 2500, 95],\n",
       " [2.0, 2000, 85],\n",
       " [2.5, 1900, 83],\n",
       " [3.0, 1850, 81],\n",
       " [3.5, 1600, 80],\n",
       " [4.0, 1500, 78],\n",
       " [5.0, 1500, 77],\n",
       " [5.5, 1600, 80],\n",
       " [6.0, 1700, 75],\n",
       " [6.5, 1500, 70]]"
      ]
     },
     "execution_count": 6,
     "metadata": {},
     "output_type": "execute_result"
    }
   ],
   "source": [
    "DataValues"
   ]
  },
  {
   "cell_type": "code",
   "execution_count": 7,
   "id": "392b597c",
   "metadata": {},
   "outputs": [
    {
     "data": {
      "text/html": [
       "<div>\n",
       "<style scoped>\n",
       "    .dataframe tbody tr th:only-of-type {\n",
       "        vertical-align: middle;\n",
       "    }\n",
       "\n",
       "    .dataframe tbody tr th {\n",
       "        vertical-align: top;\n",
       "    }\n",
       "\n",
       "    .dataframe thead th {\n",
       "        text-align: right;\n",
       "    }\n",
       "</style>\n",
       "<table border=\"1\" class=\"dataframe\">\n",
       "  <thead>\n",
       "    <tr style=\"text-align: right;\">\n",
       "      <th></th>\n",
       "      <th>Hours</th>\n",
       "      <th>Calories</th>\n",
       "      <th>Weight</th>\n",
       "    </tr>\n",
       "  </thead>\n",
       "  <tbody>\n",
       "    <tr>\n",
       "      <th>0</th>\n",
       "      <td>1.0</td>\n",
       "      <td>2500</td>\n",
       "      <td>95</td>\n",
       "    </tr>\n",
       "    <tr>\n",
       "      <th>1</th>\n",
       "      <td>2.0</td>\n",
       "      <td>2000</td>\n",
       "      <td>85</td>\n",
       "    </tr>\n",
       "    <tr>\n",
       "      <th>2</th>\n",
       "      <td>2.5</td>\n",
       "      <td>1900</td>\n",
       "      <td>83</td>\n",
       "    </tr>\n",
       "    <tr>\n",
       "      <th>3</th>\n",
       "      <td>3.0</td>\n",
       "      <td>1850</td>\n",
       "      <td>81</td>\n",
       "    </tr>\n",
       "    <tr>\n",
       "      <th>4</th>\n",
       "      <td>3.5</td>\n",
       "      <td>1600</td>\n",
       "      <td>80</td>\n",
       "    </tr>\n",
       "    <tr>\n",
       "      <th>5</th>\n",
       "      <td>4.0</td>\n",
       "      <td>1500</td>\n",
       "      <td>78</td>\n",
       "    </tr>\n",
       "    <tr>\n",
       "      <th>6</th>\n",
       "      <td>5.0</td>\n",
       "      <td>1500</td>\n",
       "      <td>77</td>\n",
       "    </tr>\n",
       "    <tr>\n",
       "      <th>7</th>\n",
       "      <td>5.5</td>\n",
       "      <td>1600</td>\n",
       "      <td>80</td>\n",
       "    </tr>\n",
       "    <tr>\n",
       "      <th>8</th>\n",
       "      <td>6.0</td>\n",
       "      <td>1700</td>\n",
       "      <td>75</td>\n",
       "    </tr>\n",
       "    <tr>\n",
       "      <th>9</th>\n",
       "      <td>6.5</td>\n",
       "      <td>1500</td>\n",
       "      <td>70</td>\n",
       "    </tr>\n",
       "  </tbody>\n",
       "</table>\n",
       "</div>"
      ],
      "text/plain": [
       "   Hours  Calories  Weight\n",
       "0    1.0      2500      95\n",
       "1    2.0      2000      85\n",
       "2    2.5      1900      83\n",
       "3    3.0      1850      81\n",
       "4    3.5      1600      80\n",
       "5    4.0      1500      78\n",
       "6    5.0      1500      77\n",
       "7    5.5      1600      80\n",
       "8    6.0      1700      75\n",
       "9    6.5      1500      70"
      ]
     },
     "execution_count": 7,
     "metadata": {},
     "output_type": "execute_result"
    }
   ],
   "source": [
    "GymData=pd.DataFrame(data=DataValues,columns=ColumnNames)\n",
    "GymData"
   ]
  },
  {
   "cell_type": "markdown",
   "id": "d5df0729",
   "metadata": {},
   "source": [
    "# EDA"
   ]
  },
  {
   "cell_type": "code",
   "execution_count": 9,
   "id": "86d88b6b",
   "metadata": {},
   "outputs": [
    {
     "name": "stdout",
     "output_type": "stream",
     "text": [
      "<class 'pandas.core.frame.DataFrame'>\n",
      "RangeIndex: 10 entries, 0 to 9\n",
      "Data columns (total 3 columns):\n",
      " #   Column    Non-Null Count  Dtype  \n",
      "---  ------    --------------  -----  \n",
      " 0   Hours     10 non-null     float64\n",
      " 1   Calories  10 non-null     int64  \n",
      " 2   Weight    10 non-null     int64  \n",
      "dtypes: float64(1), int64(2)\n",
      "memory usage: 368.0 bytes\n"
     ]
    }
   ],
   "source": [
    "GymData.info()"
   ]
  },
  {
   "cell_type": "code",
   "execution_count": 10,
   "id": "64fa124c",
   "metadata": {},
   "outputs": [
    {
     "data": {
      "text/plain": [
       "Hours       0\n",
       "Calories    0\n",
       "Weight      0\n",
       "dtype: int64"
      ]
     },
     "execution_count": 10,
     "metadata": {},
     "output_type": "execute_result"
    }
   ],
   "source": [
    "GymData.isnull().sum()"
   ]
  },
  {
   "cell_type": "code",
   "execution_count": 12,
   "id": "b1eed4cc",
   "metadata": {},
   "outputs": [
    {
     "data": {
      "text/html": [
       "<div>\n",
       "<style scoped>\n",
       "    .dataframe tbody tr th:only-of-type {\n",
       "        vertical-align: middle;\n",
       "    }\n",
       "\n",
       "    .dataframe tbody tr th {\n",
       "        vertical-align: top;\n",
       "    }\n",
       "\n",
       "    .dataframe thead th {\n",
       "        text-align: right;\n",
       "    }\n",
       "</style>\n",
       "<table border=\"1\" class=\"dataframe\">\n",
       "  <thead>\n",
       "    <tr style=\"text-align: right;\">\n",
       "      <th></th>\n",
       "      <th>Hours</th>\n",
       "      <th>Calories</th>\n",
       "      <th>Weight</th>\n",
       "    </tr>\n",
       "  </thead>\n",
       "  <tbody>\n",
       "    <tr>\n",
       "      <th>count</th>\n",
       "      <td>10.000000</td>\n",
       "      <td>10.000000</td>\n",
       "      <td>10.000000</td>\n",
       "    </tr>\n",
       "    <tr>\n",
       "      <th>mean</th>\n",
       "      <td>3.900000</td>\n",
       "      <td>1765.000000</td>\n",
       "      <td>80.400000</td>\n",
       "    </tr>\n",
       "    <tr>\n",
       "      <th>std</th>\n",
       "      <td>1.822696</td>\n",
       "      <td>314.510201</td>\n",
       "      <td>6.636599</td>\n",
       "    </tr>\n",
       "    <tr>\n",
       "      <th>min</th>\n",
       "      <td>1.000000</td>\n",
       "      <td>1500.000000</td>\n",
       "      <td>70.000000</td>\n",
       "    </tr>\n",
       "    <tr>\n",
       "      <th>25%</th>\n",
       "      <td>2.625000</td>\n",
       "      <td>1525.000000</td>\n",
       "      <td>77.250000</td>\n",
       "    </tr>\n",
       "    <tr>\n",
       "      <th>50%</th>\n",
       "      <td>3.750000</td>\n",
       "      <td>1650.000000</td>\n",
       "      <td>80.000000</td>\n",
       "    </tr>\n",
       "    <tr>\n",
       "      <th>75%</th>\n",
       "      <td>5.375000</td>\n",
       "      <td>1887.500000</td>\n",
       "      <td>82.500000</td>\n",
       "    </tr>\n",
       "    <tr>\n",
       "      <th>max</th>\n",
       "      <td>6.500000</td>\n",
       "      <td>2500.000000</td>\n",
       "      <td>95.000000</td>\n",
       "    </tr>\n",
       "  </tbody>\n",
       "</table>\n",
       "</div>"
      ],
      "text/plain": [
       "           Hours     Calories     Weight\n",
       "count  10.000000    10.000000  10.000000\n",
       "mean    3.900000  1765.000000  80.400000\n",
       "std     1.822696   314.510201   6.636599\n",
       "min     1.000000  1500.000000  70.000000\n",
       "25%     2.625000  1525.000000  77.250000\n",
       "50%     3.750000  1650.000000  80.000000\n",
       "75%     5.375000  1887.500000  82.500000\n",
       "max     6.500000  2500.000000  95.000000"
      ]
     },
     "execution_count": 12,
     "metadata": {},
     "output_type": "execute_result"
    }
   ],
   "source": [
    "GymData.describe()"
   ]
  },
  {
   "cell_type": "code",
   "execution_count": 13,
   "id": "604ac09b",
   "metadata": {},
   "outputs": [
    {
     "data": {
      "text/plain": [
       "<AxesSubplot:>"
      ]
     },
     "execution_count": 13,
     "metadata": {},
     "output_type": "execute_result"
    },
    {
     "data": {
      "image/png": "[encoded data removed]",
      "text/plain": [
       "<Figure size 432x288 with 2 Axes>"
      ]
     },
     "metadata": {
      "needs_background": "light"
     },
     "output_type": "display_data"
    }
   ],
   "source": [
    "sns.heatmap(GymData.isnull())"
   ]
  },
  {
   "cell_type": "code",
   "execution_count": 14,
   "id": "ec59287d",
   "metadata": {},
   "outputs": [
    {
     "data": {
      "text/plain": [
       "Hours       float64\n",
       "Calories      int64\n",
       "Weight        int64\n",
       "dtype: object"
      ]
     },
     "execution_count": 14,
     "metadata": {},
     "output_type": "execute_result"
    }
   ],
   "source": [
    "GymData.dtypes"
   ]
  },
  {
   "cell_type": "code",
   "execution_count": 15,
   "id": "e16f551b",
   "metadata": {},
   "outputs": [
    {
     "data": {
      "image/png": "[encoded data removed]",
      "text/plain": [
       "<Figure size 540x540 with 12 Axes>"
      ]
     },
     "metadata": {
      "needs_background": "light"
     },
     "output_type": "display_data"
    }
   ],
   "source": [
    "import matplotlib.pyplot as plt\n",
    "sns.pairplot(GymData,kind = 'scatter' )\n",
    "plt.show()"
   ]
  },
  {
   "cell_type": "code",
   "execution_count": 16,
   "id": "fe9326ec",
   "metadata": {},
   "outputs": [
    {
     "data": {
      "text/plain": [
       "<seaborn.axisgrid.PairGrid at 0x7fb884f92190>"
      ]
     },
     "execution_count": 16,
     "metadata": {},
     "output_type": "execute_result"
    },
    {
     "data": {
      "image/png": "[encoded data removed]",
      "text/plain": [
       "<Figure size 360x180 with 2 Axes>"
      ]
     },
     "metadata": {
      "needs_background": "light"
     },
     "output_type": "display_data"
    }
   ],
   "source": [
    "#to plot all the scatterplots in a single plot\n",
    "import seaborn as sns\n",
    "sns.pairplot(GymData, x_vars=[ 'Hours', 'Calories'], y_vars = 'Weight', kind=\"scatter\")"
   ]
  },
  {
   "cell_type": "code",
   "execution_count": 18,
   "id": "3bf8cd6d",
   "metadata": {},
   "outputs": [
    {
     "data": {
      "text/html": [
       "<div>\n",
       "<style scoped>\n",
       "    .dataframe tbody tr th:only-of-type {\n",
       "        vertical-align: middle;\n",
       "    }\n",
       "\n",
       "    .dataframe tbody tr th {\n",
       "        vertical-align: top;\n",
       "    }\n",
       "\n",
       "    .dataframe thead th {\n",
       "        text-align: right;\n",
       "    }\n",
       "</style>\n",
       "<table border=\"1\" class=\"dataframe\">\n",
       "  <thead>\n",
       "    <tr style=\"text-align: right;\">\n",
       "      <th></th>\n",
       "      <th>Hours</th>\n",
       "      <th>Calories</th>\n",
       "      <th>Weight</th>\n",
       "    </tr>\n",
       "  </thead>\n",
       "  <tbody>\n",
       "    <tr>\n",
       "      <th>Hours</th>\n",
       "      <td>1.000000</td>\n",
       "      <td>-0.811155</td>\n",
       "      <td>-0.901087</td>\n",
       "    </tr>\n",
       "    <tr>\n",
       "      <th>Calories</th>\n",
       "      <td>-0.811155</td>\n",
       "      <td>1.000000</td>\n",
       "      <td>0.904421</td>\n",
       "    </tr>\n",
       "    <tr>\n",
       "      <th>Weight</th>\n",
       "      <td>-0.901087</td>\n",
       "      <td>0.904421</td>\n",
       "      <td>1.000000</td>\n",
       "    </tr>\n",
       "  </tbody>\n",
       "</table>\n",
       "</div>"
      ],
      "text/plain": [
       "             Hours  Calories    Weight\n",
       "Hours     1.000000 -0.811155 -0.901087\n",
       "Calories -0.811155  1.000000  0.904421\n",
       "Weight   -0.901087  0.904421  1.000000"
      ]
     },
     "execution_count": 18,
     "metadata": {},
     "output_type": "execute_result"
    }
   ],
   "source": [
    "GymData.corr()"
   ]
  },
  {
   "cell_type": "code",
   "execution_count": 17,
   "id": "04197eda",
   "metadata": {},
   "outputs": [
    {
     "data": {
      "text/plain": [
       "<AxesSubplot:>"
      ]
     },
     "execution_count": 17,
     "metadata": {},
     "output_type": "execute_result"
    },
    {
     "data": {
      "image/png": "[encoded data removed]",
      "text/plain": [
       "<Figure size 432x288 with 2 Axes>"
      ]
     },
     "metadata": {
      "needs_background": "light"
     },
     "output_type": "display_data"
    }
   ],
   "source": [
    "sns.heatmap( GymData.corr(), annot = True )"
   ]
  },
  {
   "cell_type": "code",
   "execution_count": null,
   "id": "62de01ee",
   "metadata": {},
   "outputs": [],
   "source": []
  },
  {
   "cell_type": "code",
   "execution_count": 19,
   "id": "82f73153",
   "metadata": {},
   "outputs": [
    {
     "data": {
      "text/plain": [
       "1.0    1\n",
       "2.0    1\n",
       "2.5    1\n",
       "3.0    1\n",
       "3.5    1\n",
       "4.0    1\n",
       "5.0    1\n",
       "5.5    1\n",
       "6.0    1\n",
       "6.5    1\n",
       "Name: Hours, dtype: int64"
      ]
     },
     "execution_count": 19,
     "metadata": {},
     "output_type": "execute_result"
    }
   ],
   "source": [
    "GymData[\"Hours\"].value_counts()"
   ]
  },
  {
   "cell_type": "markdown",
   "id": "8557f760",
   "metadata": {},
   "source": [
    "# Divding the data into x and y"
   ]
  },
  {
   "cell_type": "code",
   "execution_count": 20,
   "id": "9ad5da80",
   "metadata": {},
   "outputs": [
    {
     "data": {
      "text/html": [
       "<div>\n",
       "<style scoped>\n",
       "    .dataframe tbody tr th:only-of-type {\n",
       "        vertical-align: middle;\n",
       "    }\n",
       "\n",
       "    .dataframe tbody tr th {\n",
       "        vertical-align: top;\n",
       "    }\n",
       "\n",
       "    .dataframe thead th {\n",
       "        text-align: right;\n",
       "    }\n",
       "</style>\n",
       "<table border=\"1\" class=\"dataframe\">\n",
       "  <thead>\n",
       "    <tr style=\"text-align: right;\">\n",
       "      <th></th>\n",
       "      <th>Hours</th>\n",
       "      <th>Calories</th>\n",
       "    </tr>\n",
       "  </thead>\n",
       "  <tbody>\n",
       "    <tr>\n",
       "      <th>0</th>\n",
       "      <td>1.0</td>\n",
       "      <td>2500</td>\n",
       "    </tr>\n",
       "    <tr>\n",
       "      <th>1</th>\n",
       "      <td>2.0</td>\n",
       "      <td>2000</td>\n",
       "    </tr>\n",
       "    <tr>\n",
       "      <th>2</th>\n",
       "      <td>2.5</td>\n",
       "      <td>1900</td>\n",
       "    </tr>\n",
       "    <tr>\n",
       "      <th>3</th>\n",
       "      <td>3.0</td>\n",
       "      <td>1850</td>\n",
       "    </tr>\n",
       "    <tr>\n",
       "      <th>4</th>\n",
       "      <td>3.5</td>\n",
       "      <td>1600</td>\n",
       "    </tr>\n",
       "    <tr>\n",
       "      <th>5</th>\n",
       "      <td>4.0</td>\n",
       "      <td>1500</td>\n",
       "    </tr>\n",
       "    <tr>\n",
       "      <th>6</th>\n",
       "      <td>5.0</td>\n",
       "      <td>1500</td>\n",
       "    </tr>\n",
       "    <tr>\n",
       "      <th>7</th>\n",
       "      <td>5.5</td>\n",
       "      <td>1600</td>\n",
       "    </tr>\n",
       "    <tr>\n",
       "      <th>8</th>\n",
       "      <td>6.0</td>\n",
       "      <td>1700</td>\n",
       "    </tr>\n",
       "    <tr>\n",
       "      <th>9</th>\n",
       "      <td>6.5</td>\n",
       "      <td>1500</td>\n",
       "    </tr>\n",
       "  </tbody>\n",
       "</table>\n",
       "</div>"
      ],
      "text/plain": [
       "   Hours  Calories\n",
       "0    1.0      2500\n",
       "1    2.0      2000\n",
       "2    2.5      1900\n",
       "3    3.0      1850\n",
       "4    3.5      1600\n",
       "5    4.0      1500\n",
       "6    5.0      1500\n",
       "7    5.5      1600\n",
       "8    6.0      1700\n",
       "9    6.5      1500"
      ]
     },
     "execution_count": 20,
     "metadata": {},
     "output_type": "execute_result"
    }
   ],
   "source": [
    "X=GymData[[\"Hours\",\"Calories\"]]\n",
    "X"
   ]
  },
  {
   "cell_type": "code",
   "execution_count": null,
   "id": "bc7b8c25",
   "metadata": {},
   "outputs": [],
   "source": []
  },
  {
   "cell_type": "code",
   "execution_count": 21,
   "id": "fc9c9c52",
   "metadata": {},
   "outputs": [
    {
     "data": {
      "text/plain": [
       "0    95\n",
       "1    85\n",
       "2    83\n",
       "3    81\n",
       "4    80\n",
       "5    78\n",
       "6    77\n",
       "7    80\n",
       "8    75\n",
       "9    70\n",
       "Name: Weight, dtype: int64"
      ]
     },
     "execution_count": 21,
     "metadata": {},
     "output_type": "execute_result"
    }
   ],
   "source": [
    "y=GymData['Weight']\n",
    "y"
   ]
  },
  {
   "cell_type": "markdown",
   "id": "0c13cdbf",
   "metadata": {},
   "source": [
    "# Spliting data into train and test"
   ]
  },
  {
   "cell_type": "code",
   "execution_count": 23,
   "id": "73cb0de3",
   "metadata": {},
   "outputs": [],
   "source": [
    "from sklearn.model_selection import train_test_split\n",
    "X_train,X_test,y_train,y_test=train_test_split(X,y,train_size=0.75,random_state=42)"
   ]
  },
  {
   "cell_type": "markdown",
   "id": "23f1fd90",
   "metadata": {},
   "source": [
    "# Model loading and fitting"
   ]
  },
  {
   "cell_type": "code",
   "execution_count": 24,
   "id": "f57c48c4",
   "metadata": {},
   "outputs": [
    {
     "data": {
      "text/plain": [
       "LinearRegression()"
      ]
     },
     "execution_count": 24,
     "metadata": {},
     "output_type": "execute_result"
    }
   ],
   "source": [
    "from sklearn.linear_model import LinearRegression\n",
    "Reg_model=LinearRegression()\n",
    "Reg_model.fit(X_train,y_train)"
   ]
  },
  {
   "cell_type": "code",
   "execution_count": 25,
   "id": "813b64c7",
   "metadata": {},
   "outputs": [],
   "source": [
    "Reg_model.fit(X_train,y_train)\n",
    "y_pred=Reg_model.predict(X_test)"
   ]
  },
  {
   "cell_type": "markdown",
   "id": "566f874f",
   "metadata": {},
   "source": [
    "# Evaluation"
   ]
  },
  {
   "cell_type": "code",
   "execution_count": 28,
   "id": "a97e76f2",
   "metadata": {},
   "outputs": [
    {
     "name": "stdout",
     "output_type": "stream",
     "text": [
      "R2 score for training: 0.8946234484772284\n",
      "R2 score for testing: 0.8973060982315407\n",
      "Adj score for training: 0.8419351727158426\n",
      "adj score for testing: -inf\n",
      "MSE: 1.8028484977129509\n",
      "MAE: 1.2991755005889256\n",
      "MAPE: 0.01643150401412714\n",
      "rmse: 1.3427019392675914\n"
     ]
    },
    {
     "name": "stderr",
     "output_type": "stream",
     "text": [
      "/var/folders/5v/529zz8t57w9c3m0vdkqz111c0000gn/T/ipykernel_70317/674175417.py:11: RuntimeWarning: divide by zero encountered in double_scalars\n",
      "  adjusted_r2 = 1-(1-r2)*(n-1)/(n-p-1)\n"
     ]
    }
   ],
   "source": [
    "from sklearn import metrics\n",
    "print(\"R2 score for training:\",metrics.r2_score(y_train,Reg_model.predict(X_train)))\n",
    "print(\"R2 score for testing:\",metrics.r2_score(y_test,y_pred))\n",
    "\n",
    "def adj_r2(x,y):\n",
    "    r2 = Reg_model.score(x,y)\n",
    "    n = x.shape[0]\n",
    "    p = x.shape[1]\n",
    "#     print(p)\n",
    "#     print(n)\n",
    "    adjusted_r2 = 1-(1-r2)*(n-1)/(n-p-1)\n",
    "    return adjusted_r2\n",
    "\n",
    "aj_train=adj_r2(X_train,y_train)\n",
    "print(\"Adj score for training:\",aj_train)\n",
    "\n",
    "aj_test=adj_r2(X_test,y_test)\n",
    "print(\"adj score for testing:\",aj_test)\n",
    "\n",
    "print(\"MSE:\",metrics.mean_squared_error(y_test,y_pred))\n",
    "print(\"MAE:\",metrics.mean_absolute_error(y_test,y_pred))\n",
    "print(\"MAPE:\",metrics.mean_absolute_percentage_error(y_test,y_pred))\n",
    "print(\"rmse:\",np.sqrt(metrics.mean_squared_error(y_test,y_pred)))"
   ]
  },
  {
   "cell_type": "code",
   "execution_count": 29,
   "id": "e7ddc8aa",
   "metadata": {},
   "outputs": [
    {
     "name": "stdout",
     "output_type": "stream",
     "text": [
      "Accuracy of the model, 98.35684959858729\n",
      "Accuracy of the model 98.31635834545834\n"
     ]
    }
   ],
   "source": [
    "print('Accuracy of the model,',100- (np.mean(np.abs((y_test - y_pred) / y_test)) * 100))\n",
    "\n",
    "print('Accuracy of the model',100- (np.median(np.abs((y_test - y_pred) / y_test)) * 100))"
   ]
  },
  {
   "cell_type": "markdown",
   "id": "6a22fb47",
   "metadata": {},
   "source": [
    "# Results visulization"
   ]
  },
  {
   "cell_type": "code",
   "execution_count": 30,
   "id": "a05723f2",
   "metadata": {},
   "outputs": [
    {
     "name": "stderr",
     "output_type": "stream",
     "text": [
      "/Users/ashishkhedkar/opt/anaconda3/lib/python3.9/site-packages/seaborn/distributions.py:2619: FutureWarning: `distplot` is a deprecated function and will be removed in a future version. Please adapt your code to use either `displot` (a figure-level function with similar flexibility) or `kdeplot` (an axes-level function for kernel density plots).\n",
      "  warnings.warn(msg, FutureWarning)\n",
      "/Users/ashishkhedkar/opt/anaconda3/lib/python3.9/site-packages/seaborn/distributions.py:2619: FutureWarning: `distplot` is a deprecated function and will be removed in a future version. Please adapt your code to use either `displot` (a figure-level function with similar flexibility) or `kdeplot` (an axes-level function for kernel density plots).\n",
      "  warnings.warn(msg, FutureWarning)\n"
     ]
    },
    {
     "data": {
      "text/plain": [
       "<AxesSubplot:xlabel='Weight', ylabel='Density'>"
      ]
     },
     "execution_count": 30,
     "metadata": {},
     "output_type": "execute_result"
    },
    {
     "data": {
      "image/png": "[encoded data removed]",
      "text/plain": [
       "<Figure size 432x288 with 1 Axes>"
      ]
     },
     "metadata": {
      "needs_background": "light"
     },
     "output_type": "display_data"
    }
   ],
   "source": [
    "ax1 = sns.distplot(y_test, hist=False, color=\"r\", label=\"Actual Value\")\n",
    "sns.distplot(y_pred, hist=False, color=\"b\", label=\"Fitted Values\" , ax=ax1)"
   ]
  },
  {
   "cell_type": "code",
   "execution_count": 31,
   "id": "a46e36f9",
   "metadata": {},
   "outputs": [
    {
     "name": "stderr",
     "output_type": "stream",
     "text": [
      "/Users/ashishkhedkar/opt/anaconda3/lib/python3.9/site-packages/seaborn/_decorators.py:36: FutureWarning: Pass the following variables as keyword args: x, y. From version 0.12, the only valid positional argument will be `data`, and passing other arguments without an explicit keyword will result in an error or misinterpretation.\n",
      "  warnings.warn(\n"
     ]
    },
    {
     "data": {
      "text/plain": [
       "<AxesSubplot:xlabel='Weight'>"
      ]
     },
     "execution_count": 31,
     "metadata": {},
     "output_type": "execute_result"
    },
    {
     "data": {
      "image/png": "[encoded data removed]",
      "text/plain": [
       "<Figure size 432x288 with 1 Axes>"
      ]
     },
     "metadata": {},
     "output_type": "display_data"
    }
   ],
   "source": [
    "sns.set_style(\"whitegrid\")\n",
    "sns.regplot(y_test,y_pred)"
   ]
  },
  {
   "cell_type": "markdown",
   "id": "bf944f37",
   "metadata": {},
   "source": [
    "# End to end function"
   ]
  },
  {
   "cell_type": "code",
   "execution_count": 32,
   "id": "00f5ac88",
   "metadata": {},
   "outputs": [
    {
     "name": "stdout",
     "output_type": "stream",
     "text": [
      "<class 'numpy.ndarray'>\n"
     ]
    },
    {
     "data": {
      "text/html": [
       "<div>\n",
       "<style scoped>\n",
       "    .dataframe tbody tr th:only-of-type {\n",
       "        vertical-align: middle;\n",
       "    }\n",
       "\n",
       "    .dataframe tbody tr th {\n",
       "        vertical-align: top;\n",
       "    }\n",
       "\n",
       "    .dataframe thead th {\n",
       "        text-align: right;\n",
       "    }\n",
       "</style>\n",
       "<table border=\"1\" class=\"dataframe\">\n",
       "  <thead>\n",
       "    <tr style=\"text-align: right;\">\n",
       "      <th></th>\n",
       "      <th>Values</th>\n",
       "    </tr>\n",
       "  </thead>\n",
       "  <tbody>\n",
       "    <tr>\n",
       "      <th>R2 score Training</th>\n",
       "      <td>0.8946</td>\n",
       "    </tr>\n",
       "    <tr>\n",
       "      <th>Adjusted R2 score training</th>\n",
       "      <td>0.8419</td>\n",
       "    </tr>\n",
       "    <tr>\n",
       "      <th>R2 score Testing</th>\n",
       "      <td>0.8973</td>\n",
       "    </tr>\n",
       "    <tr>\n",
       "      <th>Adjusted R2 score testing</th>\n",
       "      <td>-inf</td>\n",
       "    </tr>\n",
       "    <tr>\n",
       "      <th>MSE</th>\n",
       "      <td>1.8028</td>\n",
       "    </tr>\n",
       "    <tr>\n",
       "      <th>MAE</th>\n",
       "      <td>1.2992</td>\n",
       "    </tr>\n",
       "    <tr>\n",
       "      <th>Accuracy in % (MAPE)</th>\n",
       "      <td>98.3568</td>\n",
       "    </tr>\n",
       "    <tr>\n",
       "      <th>RMSE</th>\n",
       "      <td>1.3427</td>\n",
       "    </tr>\n",
       "  </tbody>\n",
       "</table>\n",
       "</div>"
      ],
      "text/plain": [
       "                            Values\n",
       "R2 score Training           0.8946\n",
       "Adjusted R2 score training  0.8419\n",
       "R2 score Testing            0.8973\n",
       "Adjusted R2 score testing     -inf\n",
       "MSE                         1.8028\n",
       "MAE                         1.2992\n",
       "Accuracy in % (MAPE)       98.3568\n",
       "RMSE                        1.3427"
      ]
     },
     "execution_count": 32,
     "metadata": {},
     "output_type": "execute_result"
    }
   ],
   "source": [
    "def Linear_regression_evalution(x,y):\n",
    "    from sklearn.model_selection import train_test_split\n",
    "    from sklearn.linear_model import LinearRegression\n",
    "    Linear_reg=LinearRegression()\n",
    "    from sklearn import metrics\n",
    "    import matplotlib.pyplot as plt\n",
    "    import warnings \n",
    "    warnings.filterwarnings(\"ignore\")\n",
    "    import pandas as pd\n",
    "    import seaborn as sns\n",
    "    import numpy as np\n",
    "    \n",
    "    #splitting into test train\n",
    "    x_train, x_test,y_train,y_test=train_test_split(x,y,test_size=0.25,random_state=42)\n",
    "    \n",
    "    #Model fitting\n",
    "    Linear_reg.fit(x_train,y_train)\n",
    "    \n",
    "    #Evalution\n",
    "    y_pred_test=Linear_reg.predict(x_test)\n",
    "    \n",
    "    #R2\n",
    "    r2_training=metrics.r2_score(y_train,Linear_reg.predict(x_train))\n",
    "    r2_testing=metrics.r2_score(y_test,Linear_reg.predict(x_test))\n",
    "    \n",
    "    #adjusted r2                           \n",
    "    n_train=x_train.shape[0]\n",
    "    p_train=x_train.shape[1]                            \n",
    "    adjusted_r2_training = 1-(1-r2_training)*(n_train-1)/(n_train-p_train-1)\n",
    "    \n",
    "    n_test=x_test.shape[0]\n",
    "    p_test=x_test.shape[1] \n",
    "    adjusted_r2_testing = 1-(1-r2_testing)*(n_test-1)/(n_test-p_test-1)\n",
    "    \n",
    "    MSE=metrics.mean_squared_error(y_test,y_pred_test)\n",
    "    MAE=metrics.mean_absolute_error(y_test,y_pred_test)\n",
    "    MAPE=metrics.mean_absolute_percentage_error(y_test,y_pred_test)\n",
    "    RMSE=np.sqrt(metrics.mean_squared_error(y_test,y_pred_test))\n",
    "    MAPE_new=100-(metrics.mean_absolute_percentage_error(y_test,y_pred_test)*100)\n",
    "    \n",
    "    #Making final ans in dataframe\n",
    "    values=np.array([[r2_training],[adjusted_r2_training],[r2_testing],[adjusted_r2_testing],[MSE],[MAE],[MAPE_new],[RMSE]])\n",
    "    index1=[\"R2 score Training\",\"Adjusted R2 score training\",\"R2 score Testing\",\"Adjusted R2 score testing\",\"MSE\",\"MAE\"\n",
    "           ,\"Accuracy in % (MAPE)\",\"RMSE\"]\n",
    "    print(type(values))\n",
    "    \n",
    "    ans=pd.DataFrame(data=values,index=index1,columns=[\"Values\"],dtype=\"float\")  \n",
    "    pd.set_option('display.float_format', '{:.4f}'.format)\n",
    "\n",
    "    \n",
    "    return ans\n",
    "\n",
    "ans=Linear_regression_evalution(X,y)\n",
    "ans"
   ]
  },
  {
   "cell_type": "code",
   "execution_count": null,
   "id": "d13a7cae",
   "metadata": {},
   "outputs": [],
   "source": []
  },
  {
   "cell_type": "code",
   "execution_count": 33,
   "id": "9cdb5ca5",
   "metadata": {},
   "outputs": [
    {
     "data": {
      "text/html": [
       "<div>\n",
       "<style scoped>\n",
       "    .dataframe tbody tr th:only-of-type {\n",
       "        vertical-align: middle;\n",
       "    }\n",
       "\n",
       "    .dataframe tbody tr th {\n",
       "        vertical-align: top;\n",
       "    }\n",
       "\n",
       "    .dataframe thead th {\n",
       "        text-align: right;\n",
       "    }\n",
       "</style>\n",
       "<table border=\"1\" class=\"dataframe\">\n",
       "  <thead>\n",
       "    <tr style=\"text-align: right;\">\n",
       "      <th></th>\n",
       "      <th>Col_name</th>\n",
       "      <th>coff_values</th>\n",
       "    </tr>\n",
       "  </thead>\n",
       "  <tbody>\n",
       "    <tr>\n",
       "      <th>0</th>\n",
       "      <td>Hours</td>\n",
       "      <td>-1.5141</td>\n",
       "    </tr>\n",
       "    <tr>\n",
       "      <th>1</th>\n",
       "      <td>Calories</td>\n",
       "      <td>0.0125</td>\n",
       "    </tr>\n",
       "  </tbody>\n",
       "</table>\n",
       "</div>"
      ],
      "text/plain": [
       "   Col_name  coff_values\n",
       "0     Hours      -1.5141\n",
       "1  Calories       0.0125"
      ]
     },
     "execution_count": 33,
     "metadata": {},
     "output_type": "execute_result"
    }
   ],
   "source": [
    "df=pd.DataFrame()\n",
    "df[\"Col_name\"]=X_train.columns\n",
    "df[\"coff_values\"]=pd.Series(Reg_model.coef_)\n",
    "df"
   ]
  },
  {
   "cell_type": "code",
   "execution_count": 34,
   "id": "ea47769d",
   "metadata": {},
   "outputs": [
    {
     "data": {
      "text/plain": [
       "64.51236749116609"
      ]
     },
     "execution_count": 34,
     "metadata": {},
     "output_type": "execute_result"
    }
   ],
   "source": [
    "Reg_model.intercept_"
   ]
  }
 ],
 "metadata": {
  "kernelspec": {
   "display_name": "Python 3 (ipykernel)",
   "language": "python",
   "name": "python3"
  },
  "language_info": {
   "codemirror_mode": {
    "name": "ipython",
    "version": 3
   },
   "file_extension": ".py",
   "mimetype": "text/x-python",
   "name": "python",
   "nbconvert_exporter": "python",
   "pygments_lexer": "ipython3",
   "version": "3.11.3"
  }
 },
 "nbformat": 4,
 "nbformat_minor": 5
}
